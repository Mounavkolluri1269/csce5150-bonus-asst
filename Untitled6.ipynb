{
  "nbformat": 4,
  "nbformat_minor": 0,
  "metadata": {
    "colab": {
      "provenance": []
    },
    "kernelspec": {
      "name": "python3",
      "display_name": "Python 3"
    },
    "language_info": {
      "name": "python"
    }
  },
  "cells": [
    {
      "cell_type": "code",
      "source": [
        "import heapq\n",
        "\n",
        "# Node class for Huffman Tree\n",
        "class Node:\n",
        "    def __init__(self, freq, char=None, left=None, right=None):\n",
        "        self.freq = freq\n",
        "        self.char = char\n",
        "        self.left = left\n",
        "        self.right = right\n",
        "\n",
        "    # Comparison method for heap (alphabetical order when frequencies are the same)\n",
        "    def __lt__(self, other):\n",
        "        if self.freq == other.freq:\n",
        "            return self.char < other.char  # Alphabetical order if frequency is the same\n",
        "        return self.freq < other.freq\n",
        "\n",
        "# Function to get user input\n",
        "def get_input():\n",
        "    n = int(input(\"Enter the number of characters: \"))\n",
        "    char_freq = []\n",
        "    for _ in range(n):\n",
        "        char = input(\"Enter the character: \").lower()  # Convert to lowercase for case insensitivity\n",
        "        freq = int(input(f\"Enter the frequency for {char}: \"))\n",
        "        char_freq.append((freq, char))\n",
        "    return char_freq\n",
        "\n",
        "# Function to create a min-heap from the character frequencies\n",
        "def create_heap(char_freq):\n",
        "    heap = []\n",
        "    for item in char_freq:\n",
        "        heapq.heappush(heap, (item[0], Node(item[0], item[1])))  # Push frequency and Node to heap\n",
        "    return heap\n",
        "\n",
        "# Function to build the Huffman Tree\n",
        "def build_huffman_tree(char_freq):\n",
        "    heap = create_heap(char_freq)\n",
        "\n",
        "    while len(heap) > 1:\n",
        "        left = heapq.heappop(heap)  # Pop two smallest elements\n",
        "        right = heapq.heappop(heap)\n",
        "        merged = Node(left[0] + right[0], None, left[1], right[1])  # Create a parent node\n",
        "        heapq.heappush(heap, (merged.freq, merged))  # Push merged node back to the heap\n",
        "\n",
        "    return heapq.heappop(heap)[1]  # Return the root of the Huffman Tree\n",
        "\n",
        "# Function to generate Huffman codes by traversing the Huffman Tree\n",
        "def generate_huffman_codes(node, code=\"\", huffman_codes={}):\n",
        "    if node:\n",
        "        if node.char:  # If it's a leaf node\n",
        "            huffman_codes[node.char] = code\n",
        "        generate_huffman_codes(node.left, code + \"0\", huffman_codes)  # Access left node directly\n",
        "        generate_huffman_codes(node.right, code + \"1\", huffman_codes)  # Access right node directly\n",
        "    return huffman_codes\n",
        "\n",
        "# Main function to run Huffman Coding\n",
        "def huffman_coding():\n",
        "    # Step 1: Get input from the user\n",
        "    char_freq = get_input()\n",
        "\n",
        "    # Step 2: Build the Huffman Tree\n",
        "    root = build_huffman_tree(char_freq)\n",
        "\n",
        "    # Step 3: Generate the Huffman codes\n",
        "    huffman_codes = generate_huffman_codes(root)\n",
        "\n",
        "    # Step 4: Display the Huffman Codes\n",
        "    print(\"Huffman Codes:\")\n",
        "    for char, code in huffman_codes.items():\n",
        "        print(f\"{char}: {code}\")\n",
        "\n",
        "# Call the function to run the Huffman coding\n",
        "huffman_coding()\n"
      ],
      "metadata": {
        "colab": {
          "base_uri": "https://localhost:8080/"
        },
        "id": "ozJerp8pQyL3",
        "outputId": "cb46d1b3-8876-4ef3-faf7-c9565cc656e8"
      },
      "execution_count": 1,
      "outputs": [
        {
          "output_type": "stream",
          "name": "stdout",
          "text": [
            "Enter the number of characters: 3\n",
            "Enter the character: a\n",
            "Enter the frequency for a: 3\n",
            "Enter the character: b\n",
            "Enter the frequency for b: 2\n",
            "Enter the character: c\n",
            "Enter the frequency for c: 4\n",
            "Huffman Codes:\n",
            "c: 0\n",
            "b: 10\n",
            "a: 11\n"
          ]
        }
      ]
    },
    {
      "cell_type": "code",
      "source": [],
      "metadata": {
        "id": "ucjkByis72go"
      },
      "execution_count": null,
      "outputs": []
    }
  ]
}